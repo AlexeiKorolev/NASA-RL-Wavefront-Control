{
 "cells": [
  {
   "cell_type": "code",
   "execution_count": 4,
   "id": "a87e22f5",
   "metadata": {},
   "outputs": [],
   "source": [
    "from environment import CoronagraphEnviroment\n",
    "import hcipy\n",
    "from hcipy import *\n",
    "from matplotlib import pyplot as plt"
   ]
  },
  {
   "cell_type": "code",
   "execution_count": 5,
   "id": "e09bbea0",
   "metadata": {},
   "outputs": [
    {
     "name": "stdout",
     "output_type": "stream",
     "text": [
      "initializing coronagraph env. might take a minute.\n"
     ]
    },
    {
     "ename": "NameError",
     "evalue": "name 'size' is not defined",
     "output_type": "error",
     "traceback": [
      "\u001b[31m---------------------------------------------------------------------------\u001b[39m",
      "\u001b[31mNameError\u001b[39m                                 Traceback (most recent call last)",
      "\u001b[36mCell\u001b[39m\u001b[36m \u001b[39m\u001b[32mIn[5]\u001b[39m\u001b[32m, line 1\u001b[39m\n\u001b[32m----> \u001b[39m\u001b[32m1\u001b[39m e = \u001b[43mCoronagraphEnviroment\u001b[49m\u001b[43m(\u001b[49m\u001b[43m)\u001b[49m\n",
      "\u001b[36mFile \u001b[39m\u001b[32ma:\\Projects\\DM + RL\\RL\\environment.py:79\u001b[39m, in \u001b[36mCoronagraphEnviroment.__init__\u001b[39m\u001b[34m(self, telescope_diameter, oversizing_factor, wavelength_wfs, wavelength_sci, num_modes, zero_magnitude_flux, stellar_magnitude, delta_t, pixels)\u001b[39m\n\u001b[32m      0\u001b[39m <Error retrieving source code with stack_data see ipython/ipython#13598>\n",
      "\u001b[31mNameError\u001b[39m: name 'size' is not defined"
     ]
    }
   ],
   "source": [
    "e = CoronagraphEnviroment()"
   ]
  },
  {
   "cell_type": "code",
   "execution_count": null,
   "id": "f699b493",
   "metadata": {},
   "outputs": [
    {
     "name": "stdout",
     "output_type": "stream",
     "text": [
      "[0. 0. 0. ... 0. 0. 0.]\n"
     ]
    },
    {
     "name": "stderr",
     "output_type": "stream",
     "text": [
      "C:\\Users\\alexe\\AppData\\Local\\Temp\\ipykernel_21088\\2408453806.py:4: RuntimeWarning: divide by zero encountered in log\n",
      "  imshow_field(np.log(e.get_camera_image()))\n"
     ]
    },
    {
     "data": {
      "image/png": "[encoded data removed]",
      "text/plain": [
       "<Figure size 640x480 with 1 Axes>"
      ]
     },
     "metadata": {},
     "output_type": "display_data"
    }
   ],
   "source": [
    "import numpy as np\n",
    "\n",
    "print(e.get_camera_image())\n",
    "imshow_field(np.log(e.get_camera_image()))\n",
    "plt.show()"
   ]
  },
  {
   "cell_type": "code",
   "execution_count": null,
   "id": "eaa3686e",
   "metadata": {},
   "outputs": [
    {
     "ename": "NameError",
     "evalue": "name 'e' is not defined",
     "output_type": "error",
     "traceback": [
      "\u001b[31m---------------------------------------------------------------------------\u001b[39m",
      "\u001b[31mNameError\u001b[39m                                 Traceback (most recent call last)",
      "\u001b[36mCell\u001b[39m\u001b[36m \u001b[39m\u001b[32mIn[3]\u001b[39m\u001b[32m, line 1\u001b[39m\n\u001b[32m----> \u001b[39m\u001b[32m1\u001b[39m \u001b[43me\u001b[49m.set_random_dm(noise=\u001b[32m0.01\u001b[39m)\n\u001b[32m      2\u001b[39m plt.title(\u001b[33m'\u001b[39m\u001b[33mInstantaneous PSF at 2.2$\u001b[39m\u001b[38;5;130;01m\\\\\u001b[39;00m\u001b[33mmu$m [log]\u001b[39m\u001b[33m'\u001b[39m)\n\u001b[32m      4\u001b[39m clipped = np.clip(e.get_camera_image(), a_min = \u001b[32m10\u001b[39m ** -\u001b[32m20\u001b[39m, a_max = \u001b[38;5;28;01mNone\u001b[39;00m)\n",
      "\u001b[31mNameError\u001b[39m: name 'e' is not defined"
     ]
    }
   ],
   "source": [
    "e.set_random_dm(noise=0.01)\n",
    "plt.title('Instantaneous PSF at 2.2$\\\\mu$m [log]')\n",
    "\n",
    "clipped = np.clip(e.get_camera_image(), a_min = 10 ** -20, a_max = None)\n",
    "\n",
    "print(clipped.shape)\n",
    "imshow_field(np.log(clipped), cmap='inferno')\n",
    "plt.colorbar()\n",
    "plt.show()"
   ]
  },
  {
   "cell_type": "code",
   "execution_count": 20,
   "id": "d22d19ec",
   "metadata": {},
   "outputs": [
    {
     "name": "stderr",
     "output_type": "stream",
     "text": [
      "Building dataset:  12%|█▏        | 5871/50000 [06:59<52:31, 14.00it/s]  \n"
     ]
    },
    {
     "ename": "KeyboardInterrupt",
     "evalue": "",
     "output_type": "error",
     "traceback": [
      "\u001b[31m---------------------------------------------------------------------------\u001b[39m",
      "\u001b[31mKeyboardInterrupt\u001b[39m                         Traceback (most recent call last)",
      "\u001b[36mCell\u001b[39m\u001b[36m \u001b[39m\u001b[32mIn[20]\u001b[39m\u001b[32m, line 12\u001b[39m\n\u001b[32m     10\u001b[39m \u001b[38;5;28;01mfor\u001b[39;00m _ \u001b[38;5;129;01min\u001b[39;00m tqdm(\u001b[38;5;28mrange\u001b[39m(N), desc=\u001b[33m\"\u001b[39m\u001b[33mBuilding dataset\u001b[39m\u001b[33m\"\u001b[39m):\n\u001b[32m     11\u001b[39m     e.set_random_dm(noise=\u001b[32m0.001\u001b[39m)\n\u001b[32m---> \u001b[39m\u001b[32m12\u001b[39m     images.append(np.log(np.clip(\u001b[43me\u001b[49m\u001b[43m.\u001b[49m\u001b[43mget_camera_image\u001b[49m\u001b[43m(\u001b[49m\u001b[43m)\u001b[49m, a_min = \u001b[32m1e-8\u001b[39m, a_max = \u001b[38;5;28;01mNone\u001b[39;00m)))\n\u001b[32m     13\u001b[39m     dm_settings.append(e.get_perfect_adjustment()) \n\u001b[32m     15\u001b[39m \u001b[38;5;66;03m# Normalize dm_settings to zero mean and unit variance\u001b[39;00m\n",
      "\u001b[36mFile \u001b[39m\u001b[32ma:\\Projects\\DM + RL\\RL\\environment.py:88\u001b[39m, in \u001b[36mCoronagraphEnviroment.get_camera_image\u001b[39m\u001b[34m(self)\u001b[39m\n\u001b[32m     86\u001b[39m \u001b[38;5;28;01mdef\u001b[39;00m\u001b[38;5;250m \u001b[39m\u001b[34mget_camera_image\u001b[39m(\u001b[38;5;28mself\u001b[39m):\n\u001b[32m     87\u001b[39m     \u001b[38;5;66;03m# Read out WFS camera\u001b[39;00m\n\u001b[32m---> \u001b[39m\u001b[32m88\u001b[39m     propagrated_wf = \u001b[38;5;28mself\u001b[39m.prop(\u001b[38;5;28mself\u001b[39m.lyot_stop(\u001b[38;5;28;43mself\u001b[39;49m\u001b[43m.\u001b[49m\u001b[43mcoro\u001b[49m\u001b[43m(\u001b[49m\u001b[38;5;28;43mself\u001b[39;49m\u001b[43m.\u001b[49m\u001b[43mdeformable_mirror\u001b[49m\u001b[43m(\u001b[49m\u001b[38;5;28;43mself\u001b[39;49m\u001b[43m.\u001b[49m\u001b[43mwf\u001b[49m\u001b[43m)\u001b[49m\u001b[43m)\u001b[49m))\n\u001b[32m     89\u001b[39m     \u001b[38;5;28mself\u001b[39m.camera.integrate(propagrated_wf, \u001b[38;5;28mself\u001b[39m.delta_t)\n\u001b[32m     90\u001b[39m     wfs_image = \u001b[38;5;28mself\u001b[39m.camera.read_out()\n",
      "\u001b[36mFile \u001b[39m\u001b[32ma:\\Projects\\DM + RL\\.venv\\Lib\\site-packages\\hcipy\\optics\\optical_element.py:28\u001b[39m, in \u001b[36mOpticalElement.__call__\u001b[39m\u001b[34m(self, wavefront)\u001b[39m\n\u001b[32m     15\u001b[39m \u001b[38;5;28;01mdef\u001b[39;00m\u001b[38;5;250m \u001b[39m\u001b[34m__call__\u001b[39m(\u001b[38;5;28mself\u001b[39m, wavefront):\n\u001b[32m     16\u001b[39m \u001b[38;5;250m    \u001b[39m\u001b[33;03m'''Propagate a wavefront forward through the optical element.\u001b[39;00m\n\u001b[32m     17\u001b[39m \n\u001b[32m     18\u001b[39m \u001b[33;03m    Parameters\u001b[39;00m\n\u001b[32m   (...)\u001b[39m\u001b[32m     26\u001b[39m \u001b[33;03m        The propagated wavefront.\u001b[39;00m\n\u001b[32m     27\u001b[39m \u001b[33;03m    '''\u001b[39;00m\n\u001b[32m---> \u001b[39m\u001b[32m28\u001b[39m     \u001b[38;5;28;01mreturn\u001b[39;00m \u001b[38;5;28;43mself\u001b[39;49m\u001b[43m.\u001b[49m\u001b[43mforward\u001b[49m\u001b[43m(\u001b[49m\u001b[43mwavefront\u001b[49m\u001b[43m)\u001b[49m\n",
      "\u001b[36mFile \u001b[39m\u001b[32ma:\\Projects\\DM + RL\\.venv\\Lib\\site-packages\\hcipy\\coronagraphy\\multi_scale.py:111\u001b[39m, in \u001b[36mMultiScaleCoronagraph.forward\u001b[39m\u001b[34m(self, wavefront)\u001b[39m\n\u001b[32m    109\u001b[39m \u001b[38;5;28;01mfor\u001b[39;00m i, (mask, prop) \u001b[38;5;129;01min\u001b[39;00m \u001b[38;5;28menumerate\u001b[39m(\u001b[38;5;28mzip\u001b[39m(\u001b[38;5;28mself\u001b[39m.focal_masks, \u001b[38;5;28mself\u001b[39m.props)):\n\u001b[32m    110\u001b[39m     \u001b[38;5;28;01mif\u001b[39;00m i == \u001b[32m0\u001b[39m:\n\u001b[32m--> \u001b[39m\u001b[32m111\u001b[39m         lyot = Wavefront(\u001b[43mprop\u001b[49m\u001b[43m.\u001b[49m\u001b[43mforward\u001b[49m\u001b[43m(\u001b[49m\u001b[43mwavefront\u001b[49m\u001b[43m.\u001b[49m\u001b[43melectric_field\u001b[49m\u001b[43m)\u001b[49m, input_stokes_vector=wavefront.input_stokes_vector)\n\u001b[32m    112\u001b[39m     \u001b[38;5;28;01melse\u001b[39;00m:\n\u001b[32m    113\u001b[39m         focal = prop(wavefront)\n",
      "\u001b[36mFile \u001b[39m\u001b[32ma:\\Projects\\DM + RL\\.venv\\Lib\\site-packages\\hcipy\\fourier\\fourier_operations.py:72\u001b[39m, in \u001b[36mFourierFilter.forward\u001b[39m\u001b[34m(self, field)\u001b[39m\n\u001b[32m     59\u001b[39m \u001b[38;5;28;01mdef\u001b[39;00m\u001b[38;5;250m \u001b[39m\u001b[34mforward\u001b[39m(\u001b[38;5;28mself\u001b[39m, field):\n\u001b[32m     60\u001b[39m \u001b[38;5;250m    \u001b[39m\u001b[33;03m'''Return the forward filtering of the input field.\u001b[39;00m\n\u001b[32m     61\u001b[39m \n\u001b[32m     62\u001b[39m \u001b[33;03m    Parameters\u001b[39;00m\n\u001b[32m   (...)\u001b[39m\u001b[32m     70\u001b[39m \u001b[33;03m        The filtered field.\u001b[39;00m\n\u001b[32m     71\u001b[39m \u001b[33;03m    '''\u001b[39;00m\n\u001b[32m---> \u001b[39m\u001b[32m72\u001b[39m     \u001b[38;5;28;01mreturn\u001b[39;00m \u001b[38;5;28;43mself\u001b[39;49m\u001b[43m.\u001b[49m\u001b[43m_operation\u001b[49m\u001b[43m(\u001b[49m\u001b[43mfield\u001b[49m\u001b[43m,\u001b[49m\u001b[43m \u001b[49m\u001b[43madjoint\u001b[49m\u001b[43m=\u001b[49m\u001b[38;5;28;43;01mFalse\u001b[39;49;00m\u001b[43m)\u001b[49m\n",
      "\u001b[36mFile \u001b[39m\u001b[32ma:\\Projects\\DM + RL\\.venv\\Lib\\site-packages\\hcipy\\fourier\\fourier_operations.py:151\u001b[39m, in \u001b[36mFourierFilter._operation\u001b[39m\u001b[34m(self, field, adjoint)\u001b[39m\n\u001b[32m    149\u001b[39m     res = f.reshape(s)\n\u001b[32m    150\u001b[39m \u001b[38;5;28;01melse\u001b[39;00m:\n\u001b[32m--> \u001b[39m\u001b[32m151\u001b[39m     res = \u001b[43mf\u001b[49m\u001b[43m[\u001b[49m\u001b[43mc\u001b[49m\u001b[43m]\u001b[49m\u001b[43m.\u001b[49m\u001b[43mreshape\u001b[49m\u001b[43m(\u001b[49m\u001b[43ms\u001b[49m\u001b[43m)\u001b[49m\n\u001b[32m    153\u001b[39m \u001b[38;5;28;01mreturn\u001b[39;00m Field(res, \u001b[38;5;28mself\u001b[39m.input_grid)\n",
      "\u001b[31mKeyboardInterrupt\u001b[39m: "
     ]
    }
   ],
   "source": [
    "from tqdm import tqdm\n",
    "\n",
    "# Build out a training dataset for a traditional CNN encoder.\n",
    "\n",
    "# Example: Generate a dataset of N random DM settings and their corresponding images\n",
    "N = 50000  # Number of samples\n",
    "images = []\n",
    "dm_settings = []\n",
    "\n",
    "for _ in tqdm(range(N), desc=\"Building dataset\"):\n",
    "    e.set_random_dm(noise=0.001)\n",
    "    images.append(np.log(np.clip(e.get_camera_image(), a_min = 1e-8, a_max = None)))\n",
    "    dm_settings.append(e.get_perfect_adjustment()) \n",
    "\n",
    "# Normalize dm_settings to zero mean and unit variance\n",
    "dm_settings = np.array(dm_settings)\n",
    "dm_mean = dm_settings.mean(axis=0)\n",
    "dm_std = dm_settings.std(axis=0)\n",
    "dm_settings_norm = (dm_settings - dm_mean) / (dm_std + 1e-8)"
   ]
  },
  {
   "cell_type": "code",
   "execution_count": 27,
   "id": "bdd23aea",
   "metadata": {},
   "outputs": [],
   "source": [
    "from sklearn.model_selection import train_test_split\n",
    "\n",
    "# Convert images (list of OldStyleField) to numpy arrays for ML usage\n",
    "X = np.array([np.array(img).reshape(240, 240) for img in images[:2000]])  # shape: (N, 240, 240)\n",
    "X = X[..., np.newaxis]  # shape: (N, 240, 240, 1) if needed for channels\n",
    "\n",
    "# If you want to use 3 channels (like for ResNet), stack or repeat along channel axis\n",
    "X = np.repeat(X, 3, axis=-1)  # shape: (N, 240, 240, 3)\n",
    "\n",
    "# dm_settings_norm is already normalized and is the target\n",
    "y = dm_settings_norm[:2000]\n",
    "\n",
    "# Split into train and test sets\n",
    "X_train, X_test, y_train, y_test = train_test_split(\n",
    "    X, y, test_size=0.2, random_state=42\n",
    ")"
   ]
  },
  {
   "cell_type": "code",
   "execution_count": 1,
   "id": "240e5573",
   "metadata": {},
   "outputs": [],
   "source": [
    "import torch\n",
    "\n",
    "import torch.nn as nn\n",
    "import torchvision.models as models\n",
    "\n",
    "class LargeImageEncoderNet(nn.Module):\n",
    "    def __init__(self, output_dim=500):\n",
    "        super(LargeImageEncoderNet, self).__init__()\n",
    "        # Use a pretrained ResNet50 as the encoder\n",
    "\n",
    "        # A deep CNN with several convolutional and fully connected layers\n",
    "        self.encoder = nn.Sequential(\n",
    "            nn.Conv2d(3, 32, kernel_size=5, stride=2, padding=2),  # (B,32,112,112)\n",
    "            nn.BatchNorm2d(32),\n",
    "            nn.ReLU(inplace=True),\n",
    "            nn.Conv2d(32, 64, kernel_size=3, stride=2, padding=1),  # (B,64,56,56)\n",
    "            nn.BatchNorm2d(64),\n",
    "            nn.ReLU(inplace=True),\n",
    "            nn.Conv2d(64, 128, kernel_size=3, stride=2, padding=1),  # (B,128,28,28)\n",
    "            nn.BatchNorm2d(128),\n",
    "            nn.ReLU(inplace=True),\n",
    "            nn.Conv2d(128, 256, kernel_size=3, stride=2, padding=1),  # (B,256,14,14)\n",
    "            nn.BatchNorm2d(256),\n",
    "            nn.ReLU(inplace=True),\n",
    "            nn.Conv2d(256, 512, kernel_size=3, stride=2, padding=1),  # (B,512,7,7)\n",
    "            nn.BatchNorm2d(512),\n",
    "            nn.ReLU(inplace=True),\n",
    "            nn.Flatten(),  # (B,512*7*7)\n",
    "            nn.Linear(512*7*7, 2048),\n",
    "            nn.ReLU(inplace=True),\n",
    "            nn.Linear(2048, 1024),\n",
    "            nn.ReLU(inplace=True),\n",
    "            nn.Linear(1024, output_dim)\n",
    "        )\n",
    "\n",
    "        \n",
    "        # Replace the final fully connected layer to output a vector of size 500\n",
    "        in_features = self.encoder.fc.in_features\n",
    "        self.encoder.fc = nn.Linear(in_features, output_dim)\n",
    "\n",
    "    def forward(self, x):\n",
    "        return self.encoder(x)\n",
    "    \n",
    "    \n",
    "\n",
    "# Example usage:\n",
    "# model = LargeImageEncoderNet(output_dim=500)\n",
    "# output = model(torch.randn(1, 3, 224, 224))  # Example input"
   ]
  },
  {
   "cell_type": "code",
   "execution_count": 2,
   "id": "cf3d2ff6",
   "metadata": {},
   "outputs": [
    {
     "ename": "NameError",
     "evalue": "name 'X_train' is not defined",
     "output_type": "error",
     "traceback": [
      "\u001b[31m---------------------------------------------------------------------------\u001b[39m",
      "\u001b[31mNameError\u001b[39m                                 Traceback (most recent call last)",
      "\u001b[36mCell\u001b[39m\u001b[36m \u001b[39m\u001b[32mIn[2]\u001b[39m\u001b[32m, line 6\u001b[39m\n\u001b[32m      2\u001b[39m \u001b[38;5;28;01mimport\u001b[39;00m\u001b[38;5;250m \u001b[39m\u001b[34;01mtorch\u001b[39;00m\u001b[34;01m.\u001b[39;00m\u001b[34;01mnn\u001b[39;00m\u001b[34;01m.\u001b[39;00m\u001b[34;01mfunctional\u001b[39;00m\u001b[38;5;250m \u001b[39m\u001b[38;5;28;01mas\u001b[39;00m\u001b[38;5;250m \u001b[39m\u001b[34;01mF\u001b[39;00m\n\u001b[32m      4\u001b[39m \u001b[38;5;66;03m# Prepare data for training\u001b[39;00m\n\u001b[32m      5\u001b[39m \u001b[38;5;66;03m# X_train shape: (N, 240, 240, 3) -> (N, 3, 240, 240)\u001b[39;00m\n\u001b[32m----> \u001b[39m\u001b[32m6\u001b[39m X_train_torch = torch.tensor(\u001b[43mX_train\u001b[49m.transpose(\u001b[32m0\u001b[39m, \u001b[32m3\u001b[39m, \u001b[32m1\u001b[39m, \u001b[32m2\u001b[39m), dtype=torch.float32)\n\u001b[32m      7\u001b[39m y_train_torch = torch.tensor(y_train, dtype=torch.float32)\n\u001b[32m      9\u001b[39m \u001b[38;5;66;03m# Resize images to 224x224 for ResNet50\u001b[39;00m\n",
      "\u001b[31mNameError\u001b[39m: name 'X_train' is not defined"
     ]
    }
   ],
   "source": [
    "import torch.optim as optim\n",
    "import torch.nn.functional as F\n",
    "\n",
    "# Prepare data for training\n",
    "# X_train shape: (N, 240, 240, 3) -> (N, 3, 240, 240)\n",
    "X_train_torch = torch.tensor(X_train.transpose(0, 3, 1, 2), dtype=torch.float32)\n",
    "y_train_torch = torch.tensor(y_train, dtype=torch.float32)\n",
    "\n",
    "# Resize images to 224x224 for ResNet50\n",
    "X_train_torch = F.interpolate(X_train_torch, size=(224, 224), mode='bilinear', align_corners=False)\n",
    "\n",
    "# Create DataLoader\n",
    "train_dataset = torch.utils.data.TensorDataset(X_train_torch, y_train_torch)\n",
    "train_loader = torch.utils.data.DataLoader(train_dataset, batch_size=8, shuffle=True)\n",
    "\n",
    "# Model, loss, optimizer\n",
    "device = torch.device('cuda' if torch.cuda.is_available() else 'cpu')\n",
    "model = LargeImageEncoderNet(output_dim=500).to(device)\n",
    "criterion = nn.MSELoss()\n",
    "optimizer = optim.Adam(model.parameters(), lr=1e-3)\n",
    "\n",
    "# Training loop\n",
    "epochs = 50\n",
    "model.train()\n",
    "for epoch in range(epochs):\n",
    "    running_loss = 0.0\n",
    "    for X_batch, y_batch in train_loader:\n",
    "        X_batch, y_batch = X_batch.to(device), y_batch.to(device)\n",
    "        optimizer.zero_grad()\n",
    "        outputs = model(X_batch)\n",
    "        loss = criterion(outputs, y_batch)\n",
    "        loss.backward()\n",
    "        optimizer.step()\n",
    "        running_loss += loss.item() * X_batch.size(0)\n",
    "    epoch_loss = running_loss / len(train_loader.dataset)\n",
    "    print(f\"Epoch {epoch+1}/{epochs}, Loss: {epoch_loss:.4f}\")"
   ]
  },
  {
   "cell_type": "code",
   "execution_count": 30,
   "id": "afb79d51",
   "metadata": {},
   "outputs": [
    {
     "name": "stdout",
     "output_type": "stream",
     "text": [
      "Test Loss: 0.0023\n"
     ]
    }
   ],
   "source": [
    "# Prepare test data: (N, 240, 240, 3) -> (N, 3, 240, 240) and resize to 224x224\n",
    "X_test_torch = torch.tensor(X_test.transpose(0, 3, 1, 2), dtype=torch.float32)\n",
    "X_test_torch = F.interpolate(X_test_torch, size=(224, 224), mode='bilinear', align_corners=False)\n",
    "y_test_torch = torch.tensor(y_test, dtype=torch.float32)\n",
    "\n",
    "# Move to device\n",
    "X_test_torch = X_test_torch.to(device)\n",
    "y_test_torch = y_test_torch.to(device)\n",
    "\n",
    "model.eval()\n",
    "with torch.no_grad():\n",
    "    y_pred = model(X_test_torch)\n",
    "    test_loss = criterion(y_pred, y_test_torch).item()\n",
    "print(f\"Test Loss: {test_loss:.4f}\")"
   ]
  },
  {
   "cell_type": "code",
   "execution_count": 37,
   "id": "e59ab309",
   "metadata": {},
   "outputs": [
    {
     "data": {
      "image/png": "[encoded data removed]",
      "text/plain": [
       "<Figure size 640x480 with 2 Axes>"
      ]
     },
     "metadata": {},
     "output_type": "display_data"
    },
    {
     "name": "stderr",
     "output_type": "stream",
     "text": [
      "C:\\Users\\alexe\\AppData\\Local\\Temp\\ipykernel_21088\\3332717008.py:21: DeprecationWarning: __array__ implementation doesn't accept a copy keyword, so passing copy=False failed. __array__ must implement 'dtype' and 'copy' keyword arguments. To learn more, see the migration guide https://numpy.org/devdocs/numpy_2_0_migration_guide.html#adapting-to-changes-in-the-copy-keyword\n",
      "  e.set_dm(np.array(y_pred[0].to('cpu')) * dm_std + dm_mean)\n"
     ]
    },
    {
     "data": {
      "image/png": "[encoded data removed]",
      "text/plain": [
       "<Figure size 640x480 with 2 Axes>"
      ]
     },
     "metadata": {},
     "output_type": "display_data"
    }
   ],
   "source": [
    "e.set_random_dm(noise=0.001)\n",
    "\n",
    "plt.title('Before')\n",
    "image = [np.log(np.clip(e.get_camera_image(), a_min = 10 ** -20, a_max = None))]\n",
    "\n",
    "imshow_field(image[0], cmap='inferno')\n",
    "plt.colorbar()\n",
    "plt.show()\n",
    "\n",
    "image = np.array([np.array(image[0]).reshape(240, 240)])\n",
    "\n",
    "image = image[..., np.newaxis]\n",
    "image = np.repeat(image, 3, axis=-1)\n",
    "\n",
    "manual_test_torch = torch.tensor(image.transpose(0, 3, 1, 2), dtype=torch.float32)\n",
    "manual_test_torch = F.interpolate(manual_test_torch, size=(224, 224), mode='bilinear', align_corners=False)\n",
    "manual_test_torch = manual_test_torch.to(device)\n",
    "with torch.no_grad():\n",
    "    y_pred = model(manual_test_torch)\n",
    "\n",
    "e.set_dm(np.array(y_pred[0].to('cpu')) * dm_std + dm_mean)\n",
    "\n",
    "plt.title('After')\n",
    "image = [np.log(np.clip(e.get_camera_image(), a_min = 10 ** -20, a_max = None))]\n",
    "\n",
    "imshow_field(image[0], cmap='inferno')\n",
    "plt.colorbar()\n",
    "plt.show()\n"
   ]
  },
  {
   "cell_type": "code",
   "execution_count": null,
   "id": "1bdff152",
   "metadata": {},
   "outputs": [
    {
     "data": {
      "text/plain": [
       "array([500])"
      ]
     },
     "execution_count": 14,
     "metadata": {},
     "output_type": "execute_result"
    }
   ],
   "source": []
  },
  {
   "cell_type": "code",
   "execution_count": null,
   "id": "75c2d340",
   "metadata": {},
   "outputs": [
    {
     "name": "stderr",
     "output_type": "stream",
     "text": [
      "a:\\Projects\\DM + RL\\.venv\\Lib\\site-packages\\torchvision\\models\\_utils.py:208: UserWarning: The parameter 'pretrained' is deprecated since 0.13 and may be removed in the future, please use 'weights' instead.\n",
      "  warnings.warn(\n",
      "a:\\Projects\\DM + RL\\.venv\\Lib\\site-packages\\torchvision\\models\\_utils.py:223: UserWarning: Arguments other than a weight enum or `None` for 'weights' are deprecated since 0.13 and may be removed in the future. The current behavior is equivalent to passing `weights=ResNet50_Weights.IMAGENET1K_V1`. You can also use `weights=ResNet50_Weights.DEFAULT` to get the most up-to-date weights.\n",
      "  warnings.warn(msg)\n"
     ]
    },
    {
     "name": "stdout",
     "output_type": "stream",
     "text": [
      "tensor([[-0.1284, -0.0586, -0.3857, -0.0490,  0.3105, -0.1154, -0.0051, -0.1131,\n",
      "         -0.1875,  0.3061,  0.3255, -0.1176, -0.0098, -0.5990, -0.0594, -0.0030,\n",
      "          0.0636,  0.1647,  0.1289, -0.0131, -0.1034,  0.3748, -0.0170, -0.0954,\n",
      "          0.0900,  0.1548, -0.1167,  0.0522, -0.3127, -0.4427,  0.1683, -0.5318,\n",
      "          0.1989,  0.1046, -0.1292,  0.5169, -0.4249, -0.0627,  0.0630, -0.2278,\n",
      "          0.0517,  0.0906,  0.1015,  0.0506,  0.0849,  0.3059, -0.2986, -0.2387,\n",
      "          0.1960, -0.3074,  0.2645, -0.0508, -0.2207, -0.0672,  0.0869,  0.2099,\n",
      "         -0.3448,  0.0713, -0.2548, -0.1091, -0.2851, -0.0511, -0.0407, -0.0878,\n",
      "         -0.3933, -0.0826, -0.1715, -0.1929,  0.0691,  0.1179,  0.1438,  0.1045,\n",
      "         -0.5399,  0.5008, -0.0253, -0.1165, -0.1699,  0.1100, -0.2089, -0.1661,\n",
      "          0.0460,  0.4235,  0.2166, -0.1098, -0.3527,  0.0979, -0.2749, -0.1874,\n",
      "         -0.3185, -0.2087,  0.3945,  0.0108, -0.0677,  0.3757, -0.1646, -0.1902,\n",
      "         -0.3802, -0.3508, -0.1935, -0.0285, -0.2267,  0.2462,  0.1897, -0.3118,\n",
      "         -0.2892,  0.0022,  0.1575, -0.0591, -0.1839,  0.1876,  0.2303, -0.3051,\n",
      "         -0.0138,  0.0395, -0.2472, -0.3509,  0.0740, -0.0048, -0.0314, -0.0683,\n",
      "          0.0715, -0.2775, -0.1015, -0.3921,  0.0796, -0.1736,  0.1681, -0.1410,\n",
      "         -0.0053, -0.0529, -0.0147,  0.4422,  0.1669, -0.1492, -0.1405,  0.0873,\n",
      "         -0.1271, -0.2493, -0.1123,  0.0321,  0.0770, -0.1935,  0.0057, -0.1191,\n",
      "         -0.2219, -0.1692,  0.5463, -0.2002,  0.0038,  0.0893,  0.0135, -0.0606,\n",
      "          0.1069, -0.4871, -0.3436, -0.0481,  0.2684, -0.0874,  0.1393,  0.0507,\n",
      "         -0.0105,  0.0760, -0.0822,  0.2843,  0.2545, -0.1020, -0.1720, -0.0561,\n",
      "         -0.1158, -0.0656,  0.3977,  0.4402,  0.1539,  0.0026, -0.5049, -0.0938,\n",
      "          0.5174,  0.0158,  0.0606, -0.1995, -0.0244, -0.1300, -0.1317,  0.1143,\n",
      "          0.0887, -0.2209,  0.3443,  0.2784, -0.1519,  0.1772, -0.0218, -0.2204,\n",
      "          0.0575,  0.0799,  0.0478,  0.0060, -0.1745, -0.0075,  0.2844, -0.1709,\n",
      "         -0.2331, -0.4338, -0.1121,  0.2508,  0.4301, -0.3665, -0.2646, -0.1908,\n",
      "         -0.0687, -0.0956, -0.2197,  0.2634,  0.2059, -0.2132, -0.0513, -0.0943,\n",
      "         -0.0259,  0.1226, -0.1203, -0.4802,  0.0909, -0.2113, -0.2399,  0.3576,\n",
      "         -0.2423, -0.2570,  0.0289, -0.1673,  0.3397,  0.0450,  0.6578,  0.2586,\n",
      "          0.0486, -0.3609,  0.0648, -0.0383,  0.0655, -0.1286, -0.2104, -0.2954,\n",
      "         -0.0534,  0.0248,  0.1211, -0.0980, -0.2015, -0.0281,  0.0146,  0.0294,\n",
      "         -0.2128, -0.2063, -0.0636, -0.2338, -0.4262,  0.1995, -0.0393,  0.3175,\n",
      "          0.0755, -0.2669,  0.0427,  0.3289, -0.3539,  0.1669,  0.0756, -0.3153,\n",
      "         -0.0647,  0.1583, -0.2997, -0.0935, -0.0573,  0.1585, -0.3198,  0.5718,\n",
      "         -0.1507, -0.3184, -0.1182, -0.2095, -0.4914, -0.1417,  0.1236, -0.0443,\n",
      "         -0.1011, -0.2079,  0.0860, -0.1270, -0.0626,  0.0427, -0.0745, -0.2174,\n",
      "          0.0430,  0.1782, -0.0543,  0.2281,  0.3200, -0.0132, -0.1955, -0.2103,\n",
      "          0.2567,  0.1559, -0.1755,  0.1476,  0.2601, -0.3072,  0.2562,  0.3490,\n",
      "          0.2215, -0.2766, -0.3398,  0.1473,  0.1757, -0.3155, -0.3149,  0.3155,\n",
      "         -0.0962,  0.0496,  0.1866,  0.1976,  0.0040, -0.1057,  0.0068, -0.3279,\n",
      "          0.0760, -0.0764,  0.0071, -0.3231,  0.2869, -0.3302,  0.0282,  0.0212,\n",
      "         -0.1031, -0.0701, -0.0552, -0.0812, -0.3370,  0.4429,  0.0202, -0.0704,\n",
      "         -0.1782,  0.2025, -0.3181,  0.2179, -0.0654,  0.0936, -0.1635,  0.0979,\n",
      "          0.0438, -0.0670, -0.2932,  0.2634, -0.1473, -0.1683, -0.1352,  0.3481,\n",
      "         -0.0917, -0.0449, -0.0739,  0.1499, -0.2856, -0.2390, -0.0430, -0.2465,\n",
      "         -0.1607, -0.1634,  0.0093, -0.0242,  0.1758, -0.1594, -0.0572, -0.4204,\n",
      "         -0.1676,  0.1225, -0.0056, -0.3160,  0.0165, -0.3503, -0.3313,  0.1577,\n",
      "          0.0024,  0.2083, -0.4501, -0.1405,  0.2660,  0.0206,  0.3690, -0.0912,\n",
      "          0.0574,  0.1239, -0.0453, -0.2809, -0.4183,  0.2775, -0.0138, -0.1684,\n",
      "         -0.1251,  0.2437, -0.1922,  0.0303,  0.4020, -0.1489, -0.2305,  0.1372,\n",
      "         -0.0132,  0.1812, -0.0812, -0.1706, -0.1462,  0.6004,  0.3913, -0.0389,\n",
      "          0.2873, -0.1485, -0.0016,  0.3311, -0.0339,  0.2153,  0.4562,  0.1246,\n",
      "         -0.2981,  0.1107,  0.0356, -0.2429, -0.0347, -0.0285,  0.3421, -0.3603,\n",
      "         -0.0363, -0.0811,  0.1011, -0.1331,  0.3144, -0.1447,  0.2569,  0.1508,\n",
      "         -0.0030,  0.2117,  0.0615,  0.3323,  0.2489, -0.2042,  0.3350, -0.2393,\n",
      "         -0.2570, -0.0602,  0.1834, -0.3185, -0.2895,  0.1287,  0.1355,  0.0581,\n",
      "         -0.0281,  0.1443,  0.0699,  0.0155,  0.3256,  0.3219, -0.1156,  0.1868,\n",
      "         -0.4713, -0.3027,  0.0340, -0.0445,  0.3324, -0.0448, -0.2251,  0.0185,\n",
      "         -0.1984,  0.1274,  0.1735, -0.3198,  0.4034, -0.2793, -0.2025, -0.1235,\n",
      "          0.0009,  0.1538,  0.1532,  0.0732, -0.1239,  0.1571, -0.0904, -0.6625,\n",
      "          0.1024, -0.0922, -0.1714, -0.0689,  0.4585,  0.1035, -0.4763, -0.1846,\n",
      "         -0.0115,  0.2250,  0.5691, -0.3195, -0.1516,  0.1656, -0.2335,  0.3032,\n",
      "         -0.0964, -0.1317,  0.0634, -0.0422]])\n"
     ]
    }
   ],
   "source": [
    "# Convert the log of the clipped image to a torch tensor and pass through the network\n",
    "log_clipped = np.log(clipped)\n",
    "# Reshape and normalize as needed for ResNet50 (expects 3x224x224 input)\n",
    "log_clipped_img = log_clipped.reshape(240, 240)  # Assuming 240x240 image\n",
    "\n",
    "# Convert to 3-channel by stacking, normalize to [0,1]\n",
    "img_np = np.stack([log_clipped_img]*3, axis=0)\n",
    "img_np = (img_np - img_np.min()) / (img_np.max() - img_np.min())\n",
    "\n",
    "# Resize to 224x224 for ResNet50\n",
    "import torch.nn.functional as F\n",
    "img_tensor = torch.tensor(img_np, dtype=torch.float32).unsqueeze(0)  # shape (1,3,240,240)\n",
    "img_tensor = F.interpolate(img_tensor, size=(224,224), mode='bilinear', align_corners=False)\n",
    "\n",
    "# Pass through the network\n",
    "model = LargeImageEncoderNet(output_dim=500)\n",
    "model.eval()\n",
    "with torch.no_grad():\n",
    "    output = model(img_tensor)\n",
    "print(output)"
   ]
  }
 ],
 "metadata": {
  "kernelspec": {
   "display_name": ".venv",
   "language": "python",
   "name": "python3"
  },
  "language_info": {
   "codemirror_mode": {
    "name": "ipython",
    "version": 3
   },
   "file_extension": ".py",
   "mimetype": "text/x-python",
   "name": "python",
   "nbconvert_exporter": "python",
   "pygments_lexer": "ipython3",
   "version": "3.12.4"
  }
 },
 "nbformat": 4,
 "nbformat_minor": 5
}
